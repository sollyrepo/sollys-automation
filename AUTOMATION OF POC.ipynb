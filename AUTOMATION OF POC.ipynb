{
 "cells": [
  {
   "cell_type": "code",
   "execution_count": null,
   "metadata": {},
   "outputs": [],
   "source": [
    "#Import all packages\n",
    "from pathlib import Path\n",
    "import pdf2image\n",
    "import os\n",
    "import os, sys\n",
    "try:\n",
    "    from PIL import Image\n",
    "except ImportError:\n",
    "    import Image\n",
    "import pytesseract\n",
    "pytesseract.pytesseract.tesseract_cmd = r\"C:\\Program Files\\Tesseract-OCR\\tesseract.exe\"\n",
    "#C:\\Program Files\\Tesseract-OCR\n",
    "pdf2image.pdf2image_cmd = r'C:\\Program Files (x86)\\VeryPDF PDF to Image Converter v3.0\\pdf2img.exe'\n",
    "#import docxpy  - you can use this package when you are extracting text from word files"
   ]
  },
  {
   "cell_type": "code",
   "execution_count": null,
   "metadata": {},
   "outputs": [],
   "source": [
    "#initialize the path to your documents\n",
    "PATH = 'C:/AUTOMATION TESTING OF POC/page count/'\n",
    "#C:\\AUTOMATION TESTING OF POC\\testing 2C:\\AUTOMATION TESTING OF POC\\\n",
    "#initialize the counter that you will use later in your pdf extraction function\n",
    "i = 1"
   ]
  },
  {
   "cell_type": "code",
   "execution_count": null,
   "metadata": {},
   "outputs": [],
   "source": [
    "# This function deletes all ppm and .DS_Store files from the folder\n",
    "#             if '.ppm' in file or '.desktop.ini' in file:\n",
    "\n",
    "def delete_ppms():\n",
    "  for file in os.listdir(PATH):\n",
    "    if '.ppm' in file:\n",
    "      try:\n",
    "          os.remove(PATH + file)\n",
    "      except FileNotFoundError:\n",
    "          pass"
   ]
  },
  {
   "cell_type": "code",
   "execution_count": null,
   "metadata": {},
   "outputs": [],
   "source": [
    "# initialize lists for each document  type\n",
    "pdf_files = []\n",
    "text_files = []\n",
    "\n",
    "# append document names into the lists by their extension type\n",
    "for f in os.listdir(PATH):\n",
    "  full_name = os.path.join(PATH, f) \n",
    "  if os.path.isfile(full_name):\n",
    "    name = os.(f)\n",
    "    filename, ext = os.path(name)\n",
    "    if ext == '.pdf':\n",
    "      pdf_files.append(name)\n",
    "   # elif ext == ('.txt'):\n",
    "    #  docx_files.append(name)\n"
   ]
  },
  {
   "cell_type": "code",
   "execution_count": null,
   "metadata": {},
   "outputs": [],
   "source": [
    "pdf_files"
   ]
  },
  {
   "cell_type": "code",
   "execution_count": null,
   "metadata": {},
   "outputs": [],
   "source": [
    "# This function converts pdf to images and then extracts text from images\n",
    "def pdf_extract(inputfile, i):\n",
    "  #delete_ppms()\n",
    "  print(\"extracting from files from PDF:\", inputfile)\n",
    "  images = pdf2image.convert_from_path(PATH + inputfile, output_folder=PATH)\n",
    "  images\n",
    "    \n",
    " # createdir(inputfile)    \n",
    "  j = 0 \n",
    "  p = 1 \n",
    "  for file in sorted (os.listdir(PATH)):\n",
    "    p += 1 \n",
    "    print(\"Extracting from text from .PPM:\", file)\n",
    "  print(\"Total number of pages Processed:\",p)    \n",
    "\n",
    "#     if '.ppm' in file and 'image' not in file:\n",
    "#         os.rename(PATH + file,PATH + 'image' + str(i)+ '-' + str(j)+ '.ppm')\n",
    "        \n",
    "#         j += 1\n",
    "  j = 0\n",
    "  f = open(PATH +Path(inputfile).stem+'.txt', 'w')\n",
    "  files = [f for f in os.listdir(PATH) if '.ppm' in f]\n",
    " \n",
    "  for file in sorted(files):\n",
    "      temp = pytesseract.image_to_string(Img.open(PATH + file)) \n",
    "      f.write(temp)       \n",
    "  f.close()"
   ]
  },
  {
   "cell_type": "code",
   "execution_count": null,
   "metadata": {},
   "outputs": [],
   "source": [
    "# Run for-loop for each document in range of pdf_files list\n",
    "for i in range(len(pdf_files)):\n",
    "    pdf_extract(pdf_files(i), i)\n",
    "    \n",
    "    \n",
    "    "
   ]
  }
 ],
 "metadata": {
  "kernelspec": {
   "display_name": "Python 3",
   "language": "python",
   "name": "python3"
  },
  "language_info": {
   "codemirror_mode": {
    "name": "ipython",
    "version": 3
   },
   "file_extension": ".py",
   "mimetype": "text/x-python",
   "name": "python",
   "nbconvert_exporter": "python",
   "pygments_lexer": "ipython3",
   "version": "3.8.5"
  }
 },
 "nbformat": 4,
 "nbformat_minor": 4
}
